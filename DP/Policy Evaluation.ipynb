{
 "cells": [
  {
   "cell_type": "markdown",
   "metadata": {},
   "source": [
    "## Policy Evaluation of Gridworld"
   ]
  },
  {
   "cell_type": "code",
   "execution_count": 2,
   "metadata": {},
   "outputs": [],
   "source": [
    "import numpy as np\n",
    "import sys\n",
    "if \"../\" not in sys.path:\n",
    "    sys.path.append(\"../\")\n",
    "from lib.Envs.gridworld import GridworldEnv"
   ]
  },
  {
   "cell_type": "markdown",
   "metadata": {},
   "source": [
    "### first Need to create Gridworld Environment to for Policy Evaluation"
   ]
  },
  {
   "cell_type": "code",
   "execution_count": 3,
   "metadata": {},
   "outputs": [],
   "source": [
    "env = GridworldEnv()"
   ]
  },
  {
   "cell_type": "code",
   "execution_count": null,
   "metadata": {},
   "outputs": [],
   "source": [
    "def policy_eval(policy, env, discount_factor=1.0, theta= 0.00001):\n",
    "    \"\"\"\n",
    "    Evaluate a policy given an environment and a full dynamics of environment's dynamics\n",
    "    \n",
    "    args:\n",
    "        policy: [S,A] shaped matrix representing policy where S is states and A is Actions\n",
    "        env: openAI env. env.P represents the transition policy of the environment\n",
    "        env.P[s][a] is list of transition tuples (prob, next_state, reward, done).\n",
    "        env.nS is a number of states in the environment.\n",
    "        env.nA is a number of actions in the environment.\n",
    "        theta: we stop our evaluation once our value function change is less than theta for all states.\n",
    "        discount_factor: gamma discount factor.\n",
    "        \n",
    "    returns:\n",
    "        Vector of length env.nS representing the value function.\n",
    "    \"\"\"\n",
    "#     starts with random value function\n",
    "    V = np.zeros(env.nS)\n",
    "    while True:\n",
    "#         ToDo: Implement !\n",
    "        break\n",
    "    return np.array(V)"
   ]
  },
  {
   "cell_type": "code",
   "execution_count": null,
   "metadata": {},
   "outputs": [],
   "source": [
    "random_policy = np.ones([env.nS, env.nA]) / env.nA\n",
    "v = policy_eval(random_policy, env)"
   ]
  }
 ],
 "metadata": {
  "kernelspec": {
   "display_name": "Python 3",
   "language": "python",
   "name": "python3"
  },
  "language_info": {
   "codemirror_mode": {
    "name": "ipython",
    "version": 3
   },
   "file_extension": ".py",
   "mimetype": "text/x-python",
   "name": "python",
   "nbconvert_exporter": "python",
   "pygments_lexer": "ipython3",
   "version": "3.6.8"
  }
 },
 "nbformat": 4,
 "nbformat_minor": 2
}
